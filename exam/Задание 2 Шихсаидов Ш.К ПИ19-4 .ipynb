{
 "cells": [
  {
   "cell_type": "code",
   "execution_count": 9,
   "metadata": {
    "pycharm": {
     "name": "#%%\n"
    }
   },
   "outputs": [],
   "source": [
    "import numpy as np\n",
    "from pulp import LpProblem, LpMinimize, LpVariable, LpMaximize\n",
    "import pandas as pd\n",
    "import matplotlib.pyplot as plt\n",
    "import nashpy as nash"
   ]
  },
  {
   "cell_type": "code",
   "execution_count": 10,
   "metadata": {
    "pycharm": {
     "name": "#%%\n"
    }
   },
   "outputs": [],
   "source": [
    "ge = np.vectorize(lambda x, y: x >= y)\n",
    "le = np.vectorize(lambda x, y: x <= y)\n",
    "\n",
    "# Решение симплекс-методом\n",
    "def strat_mix(M, F_type, C_type_f):\n",
    "    model = LpProblem(\"Game\", F_type)\n",
    "    W = []\n",
    "\n",
    "    for i in range(M.shape[0]):\n",
    "        w = LpVariable(f'w{i+1}', lowBound=0)\n",
    "        W.append(w)\n",
    "\n",
    "    W = np.array(W)\n",
    "    \n",
    "\n",
    "    F = (W).sum()\n",
    "\n",
    "    C = C_type_f((M * W).sum(axis=1), 1)\n",
    "    \n",
    "    model += F\n",
    "    for constraint in C:\n",
    "        model += constraint\n",
    "\n",
    "    model.solve()\n",
    "\n",
    "    opt = np.array(list(map(lambda x: x.value(), model.variables())))\n",
    "\n",
    "    v = 1 / opt.sum()\n",
    "    opt = opt / opt.sum()\n",
    "    return opt, v"
   ]
  },
  {
   "cell_type": "markdown",
   "metadata": {
    "pycharm": {
     "name": "#%% md\n"
    }
   },
   "source": [
    "### 1. Решение задачи о нахождении выигрышной стратегии для антагонистической игры"
   ]
  },
  {
   "cell_type": "code",
   "execution_count": 15,
   "metadata": {
    "pycharm": {
     "name": "#%%\n"
    }
   },
   "outputs": [
    {
     "name": "stdout",
     "output_type": "stream",
     "text": [
      "a) Оптимальная чистая стратегия для игрока А: №2 - Ноутбуки\n",
      "б) Цена игры для игрока А при выборе чистой оптимальной стратегии:  8\n",
      "в) Оптимальная чистая стратегия для игрока Б: №2 - Наушники\n",
      "г) Цена игры для игрока Б при выборе чистой оптимальной стратегии: 9\n",
      "д) Таблица смешанных стратегий для игрока А: [0.5 0.5]\n",
      "е) Цена игры для игрока А при выборе смешанной оптимальной стратегии: 8.500000059500001\n"
     ]
    }
   ],
   "source": [
    "strategies_A = ['Телефоны','Ноутбуки']\n",
    "strategies_B = ['Телефоны', 'Наушники']\n",
    "\n",
    "# Матрица игры\n",
    "M = np.array([\n",
    "    [10, 7],\n",
    "    [8, 9]])\n",
    "\n",
    "worst_response_scenarios_A = M.min(axis=1)\n",
    "worst_response_scenarios_B = M.max(axis=0)\n",
    "opt_strategy_A = worst_response_scenarios_A.argmax()\n",
    "opt_strategy_B = worst_response_scenarios_B.argmin()\n",
    "\n",
    "opt, v = strat_mix(M, LpMaximize, le)\n",
    "\n",
    "res = f'a) Оптимальная чистая стратегия для игрока А: №{opt_strategy_A + 1} - {strategies_A[opt_strategy_A]}\\n' \\\n",
    "  f'б) Цена игры для игрока А при выборе чистой оптимальной стратегии:  {worst_response_scenarios_A[opt_strategy_A]}\\n' \\\n",
    "  f'в) Оптимальная чистая стратегия для игрока Б: №{opt_strategy_B + 1} - {strategies_B[opt_strategy_B]}\\n' \\\n",
    "  f'г) Цена игры для игрока Б при выборе чистой оптимальной стратегии: {worst_response_scenarios_B[opt_strategy_B]}\\n' \\\n",
    "  f'д) Таблица смешанных стратегий для игрока А: {opt}\\n' \\\n",
    "  f'е) Цена игры для игрока А при выборе смешанной оптимальной стратегии: {v}'\n",
    "\n",
    "print(res)"
   ]
  }
 ],
 "metadata": {
  "kernelspec": {
   "display_name": "Python 3",
   "language": "python",
   "name": "python3"
  },
  "language_info": {
   "codemirror_mode": {
    "name": "ipython",
    "version": 3
   },
   "file_extension": ".py",
   "mimetype": "text/x-python",
   "name": "python",
   "nbconvert_exporter": "python",
   "pygments_lexer": "ipython3",
   "version": "3.8.8"
  }
 },
 "nbformat": 4,
 "nbformat_minor": 1
}
