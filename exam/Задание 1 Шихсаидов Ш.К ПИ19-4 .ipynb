{
 "cells": [
  {
   "cell_type": "markdown",
   "metadata": {},
   "source": [
    "## Задание 1"
   ]
  },
  {
   "cell_type": "markdown",
   "metadata": {},
   "source": [
    "## Билет 52"
   ]
  },
  {
   "cell_type": "code",
   "execution_count": 1,
   "metadata": {},
   "outputs": [],
   "source": [
    "from pulp import *\n",
    "import pandas as pd"
   ]
  },
  {
   "cell_type": "code",
   "execution_count": 5,
   "metadata": {},
   "outputs": [
    {
     "name": "stdout",
     "output_type": "stream",
     "text": [
      "{'A1': 60, 'A2': 130, 'A3': 90} \n",
      "\n",
      "{'B1': 30, 'B2': 80, 'B3': 60, 'B4': 110}\n"
     ]
    }
   ],
   "source": [
    "firms = [\"A1\", \"A2\", \"A3\"]\n",
    "a1, a2, a3 = 60, 130, 90\n",
    "\n",
    "supply = {\"A1\": a1, \"A2\": a2, \"A3\" : a3} \n",
    "\n",
    "consumers = [\"B1\", \"B2\", \"B3\", \"B4\"]\n",
    "b1, b2, b3, b4 = 30, 80, 60, 110\n",
    "\n",
    "demand = {\n",
    "    \"B1\": b1,\n",
    "    \"B2\": b2,\n",
    "    \"B3\": b3,\n",
    "    \"B4\": b4,\n",
    "}\n",
    "\n",
    "costs = [\n",
    "    [6, 1000, 15, 4],  \n",
    "    [9, 15, 2, 1000],  \n",
    "    [6, 12, 7, 1] \n",
    "]\n",
    "\n",
    "costs = makeDict([firms, consumers], costs, 0)\n",
    "\n",
    "print(supply,\"\\n\")\n",
    "\n",
    "print(demand)"
   ]
  },
  {
   "cell_type": "markdown",
   "metadata": {},
   "source": [
    "#### Проверим, что транспортная задача закрытого типа"
   ]
  },
  {
   "cell_type": "code",
   "execution_count": 7,
   "metadata": {},
   "outputs": [
    {
     "data": {
      "text/plain": [
       "True"
      ]
     },
     "execution_count": 7,
     "metadata": {},
     "output_type": "execute_result"
    }
   ],
   "source": [
    "sum(supply.values()) == sum(demand.values())"
   ]
  },
  {
   "cell_type": "markdown",
   "metadata": {},
   "source": [
    "Транспортная задача закрытого типа"
   ]
  },
  {
   "cell_type": "markdown",
   "metadata": {},
   "source": [
    "#### Задача минимизации"
   ]
  },
  {
   "cell_type": "code",
   "execution_count": 8,
   "metadata": {},
   "outputs": [
    {
     "data": {
      "text/plain": [
       "Distribution_Problem:\n",
       "MINIMIZE\n",
       "None\n",
       "VARIABLES"
      ]
     },
     "execution_count": 8,
     "metadata": {},
     "output_type": "execute_result"
    }
   ],
   "source": [
    "model = LpProblem(\"Distribution_Problem\", LpMinimize)\n",
    "model"
   ]
  },
  {
   "cell_type": "markdown",
   "metadata": {},
   "source": [
    "#### Все возможные маршруты"
   ]
  },
  {
   "cell_type": "code",
   "execution_count": 10,
   "metadata": {},
   "outputs": [
    {
     "name": "stdout",
     "output_type": "stream",
     "text": [
      "[('A1', 'B1'), ('A1', 'B2'), ('A1', 'B3'), ('A1', 'B4'), ('A2', 'B1'), ('A2', 'B2'), ('A2', 'B3'), ('A2', 'B4'), ('A3', 'B1'), ('A3', 'B2'), ('A3', 'B3'), ('A3', 'B4')]\n"
     ]
    }
   ],
   "source": [
    "Routes = [(w, b) for w in firms for b in consumers]\n",
    "print(Routes)"
   ]
  },
  {
   "cell_type": "code",
   "execution_count": 11,
   "metadata": {},
   "outputs": [
    {
     "data": {
      "text/plain": [
       "{'A1': {'B1': Numbers_of_goods_A1_B1,\n",
       "  'B2': Numbers_of_goods_A1_B2,\n",
       "  'B3': Numbers_of_goods_A1_B3,\n",
       "  'B4': Numbers_of_goods_A1_B4},\n",
       " 'A2': {'B1': Numbers_of_goods_A2_B1,\n",
       "  'B2': Numbers_of_goods_A2_B2,\n",
       "  'B3': Numbers_of_goods_A2_B3,\n",
       "  'B4': Numbers_of_goods_A2_B4},\n",
       " 'A3': {'B1': Numbers_of_goods_A3_B1,\n",
       "  'B2': Numbers_of_goods_A3_B2,\n",
       "  'B3': Numbers_of_goods_A3_B3,\n",
       "  'B4': Numbers_of_goods_A3_B4}}"
      ]
     },
     "execution_count": 11,
     "metadata": {},
     "output_type": "execute_result"
    }
   ],
   "source": [
    "goods = LpVariable.dicts(\"Numbers_of_goods\", (firms, consumers), 0, None, LpInteger)\n",
    "goods"
   ]
  },
  {
   "cell_type": "markdown",
   "metadata": {},
   "source": [
    "#### Целевая функция"
   ]
  },
  {
   "cell_type": "code",
   "execution_count": 12,
   "metadata": {},
   "outputs": [
    {
     "data": {
      "text/plain": [
       "Distribution_Problem:\n",
       "MINIMIZE\n",
       "6*Numbers_of_goods_A1_B1 + 1000*Numbers_of_goods_A1_B2 + 15*Numbers_of_goods_A1_B3 + 4*Numbers_of_goods_A1_B4 + 9*Numbers_of_goods_A2_B1 + 15*Numbers_of_goods_A2_B2 + 2*Numbers_of_goods_A2_B3 + 1000*Numbers_of_goods_A2_B4 + 6*Numbers_of_goods_A3_B1 + 12*Numbers_of_goods_A3_B2 + 7*Numbers_of_goods_A3_B3 + 1*Numbers_of_goods_A3_B4 + 0\n",
       "VARIABLES\n",
       "0 <= Numbers_of_goods_A1_B1 Integer\n",
       "0 <= Numbers_of_goods_A1_B2 Integer\n",
       "0 <= Numbers_of_goods_A1_B3 Integer\n",
       "0 <= Numbers_of_goods_A1_B4 Integer\n",
       "0 <= Numbers_of_goods_A2_B1 Integer\n",
       "0 <= Numbers_of_goods_A2_B2 Integer\n",
       "0 <= Numbers_of_goods_A2_B3 Integer\n",
       "0 <= Numbers_of_goods_A2_B4 Integer\n",
       "0 <= Numbers_of_goods_A3_B1 Integer\n",
       "0 <= Numbers_of_goods_A3_B2 Integer\n",
       "0 <= Numbers_of_goods_A3_B3 Integer\n",
       "0 <= Numbers_of_goods_A3_B4 Integer"
      ]
     },
     "execution_count": 12,
     "metadata": {},
     "output_type": "execute_result"
    }
   ],
   "source": [
    "model += (\n",
    "    lpSum([goods[w][b] * costs[w][b] for (w, b) in Routes]),\n",
    "    \"Sum_of_Transporting_Costs\"\n",
    ")\n",
    "model"
   ]
  },
  {
   "cell_type": "markdown",
   "metadata": {},
   "source": [
    "#### Ограничения"
   ]
  },
  {
   "cell_type": "code",
   "execution_count": 13,
   "metadata": {},
   "outputs": [
    {
     "data": {
      "text/plain": [
       "Distribution_Problem:\n",
       "MINIMIZE\n",
       "6*Numbers_of_goods_A1_B1 + 1000*Numbers_of_goods_A1_B2 + 15*Numbers_of_goods_A1_B3 + 4*Numbers_of_goods_A1_B4 + 9*Numbers_of_goods_A2_B1 + 15*Numbers_of_goods_A2_B2 + 2*Numbers_of_goods_A2_B3 + 1000*Numbers_of_goods_A2_B4 + 6*Numbers_of_goods_A3_B1 + 12*Numbers_of_goods_A3_B2 + 7*Numbers_of_goods_A3_B3 + 1*Numbers_of_goods_A3_B4 + 0\n",
       "SUBJECT TO\n",
       "Sum_of_Products_out_of_firm_A1: Numbers_of_goods_A1_B1\n",
       " + Numbers_of_goods_A1_B2 + Numbers_of_goods_A1_B3 + Numbers_of_goods_A1_B4\n",
       " <= 60\n",
       "\n",
       "Sum_of_Products_out_of_firm_A2: Numbers_of_goods_A2_B1\n",
       " + Numbers_of_goods_A2_B2 + Numbers_of_goods_A2_B3 + Numbers_of_goods_A2_B4\n",
       " <= 130\n",
       "\n",
       "Sum_of_Products_out_of_firm_A3: Numbers_of_goods_A3_B1\n",
       " + Numbers_of_goods_A3_B2 + Numbers_of_goods_A3_B3 + Numbers_of_goods_A3_B4\n",
       " <= 90\n",
       "\n",
       "Sum_of_Products_into_consumerB1: Numbers_of_goods_A1_B1\n",
       " + Numbers_of_goods_A2_B1 + Numbers_of_goods_A3_B1 = 30\n",
       "\n",
       "Sum_of_Products_into_consumerB2: Numbers_of_goods_A1_B2\n",
       " + Numbers_of_goods_A2_B2 + Numbers_of_goods_A3_B2 = 80\n",
       "\n",
       "Sum_of_Products_into_consumerB3: Numbers_of_goods_A1_B3\n",
       " + Numbers_of_goods_A2_B3 + Numbers_of_goods_A3_B3 = 60\n",
       "\n",
       "Sum_of_Products_into_consumerB4: Numbers_of_goods_A1_B4\n",
       " + Numbers_of_goods_A2_B4 + Numbers_of_goods_A3_B4 = 110\n",
       "\n",
       "VARIABLES\n",
       "0 <= Numbers_of_goods_A1_B1 Integer\n",
       "0 <= Numbers_of_goods_A1_B2 Integer\n",
       "0 <= Numbers_of_goods_A1_B3 Integer\n",
       "0 <= Numbers_of_goods_A1_B4 Integer\n",
       "0 <= Numbers_of_goods_A2_B1 Integer\n",
       "0 <= Numbers_of_goods_A2_B2 Integer\n",
       "0 <= Numbers_of_goods_A2_B3 Integer\n",
       "0 <= Numbers_of_goods_A2_B4 Integer\n",
       "0 <= Numbers_of_goods_A3_B1 Integer\n",
       "0 <= Numbers_of_goods_A3_B2 Integer\n",
       "0 <= Numbers_of_goods_A3_B3 Integer\n",
       "0 <= Numbers_of_goods_A3_B4 Integer"
      ]
     },
     "execution_count": 13,
     "metadata": {},
     "output_type": "execute_result"
    }
   ],
   "source": [
    "for w in firms:\n",
    "    model += (\n",
    "        lpSum([goods[w][b] for b in consumers]) <= supply[w],\n",
    "        \"Sum_of_Products_out_of_firm_%s\" % w\n",
    "    )\n",
    "    \n",
    "for b in consumers:\n",
    "    model += (\n",
    "        lpSum([goods[w][b] for w in firms]) == demand[b],\n",
    "        \"Sum_of_Products_into_consumer%s\" % b\n",
    "    )\n",
    "model   "
   ]
  },
  {
   "cell_type": "code",
   "execution_count": 14,
   "metadata": {},
   "outputs": [
    {
     "data": {
      "text/plain": [
       "1"
      ]
     },
     "execution_count": 14,
     "metadata": {},
     "output_type": "execute_result"
    }
   ],
   "source": [
    "model.solve()"
   ]
  },
  {
   "cell_type": "code",
   "execution_count": 15,
   "metadata": {},
   "outputs": [
    {
     "name": "stdout",
     "output_type": "stream",
     "text": [
      "Статус решения: 1, Optimal\n",
      "\n",
      "Numbers_of_goods_A1_B1 = 30.0\n",
      "Numbers_of_goods_A1_B2 = 0.0\n",
      "Numbers_of_goods_A1_B3 = 0.0\n",
      "Numbers_of_goods_A1_B4 = 30.0\n",
      "Numbers_of_goods_A2_B1 = 0.0\n",
      "Numbers_of_goods_A2_B2 = 70.0\n",
      "Numbers_of_goods_A2_B3 = 60.0\n",
      "Numbers_of_goods_A2_B4 = 0.0\n",
      "Numbers_of_goods_A3_B1 = 0.0\n",
      "Numbers_of_goods_A3_B2 = 10.0\n",
      "Numbers_of_goods_A3_B3 = 0.0\n",
      "Numbers_of_goods_A3_B4 = 80.0\n",
      "\n",
      "Оптимальное значение целевой функции = 1670.0\n"
     ]
    }
   ],
   "source": [
    "print(f\"Статус решения: {model.status}, {LpStatus[model.status]}\\n\")\n",
    "\n",
    "for v in model.variables():\n",
    "    print(v.name, \"=\", v.varValue)\n",
    "\n",
    "print(f\"\\nОптимальное значение целевой функции = {value(model.objective)}\")"
   ]
  },
  {
   "cell_type": "markdown",
   "metadata": {},
   "source": [
    "#### Оптимальный план"
   ]
  },
  {
   "cell_type": "code",
   "execution_count": 17,
   "metadata": {},
   "outputs": [
    {
     "data": {
      "text/html": [
       "<div>\n",
       "<style scoped>\n",
       "    .dataframe tbody tr th:only-of-type {\n",
       "        vertical-align: middle;\n",
       "    }\n",
       "\n",
       "    .dataframe tbody tr th {\n",
       "        vertical-align: top;\n",
       "    }\n",
       "\n",
       "    .dataframe thead th {\n",
       "        text-align: right;\n",
       "    }\n",
       "</style>\n",
       "<table border=\"1\" class=\"dataframe\">\n",
       "  <thead>\n",
       "    <tr style=\"text-align: right;\">\n",
       "      <th></th>\n",
       "      <th>B1</th>\n",
       "      <th>B2</th>\n",
       "      <th>B3</th>\n",
       "      <th>B4</th>\n",
       "    </tr>\n",
       "  </thead>\n",
       "  <tbody>\n",
       "    <tr>\n",
       "      <th>A1</th>\n",
       "      <td>30.0</td>\n",
       "      <td>0.0</td>\n",
       "      <td>0.0</td>\n",
       "      <td>30.0</td>\n",
       "    </tr>\n",
       "    <tr>\n",
       "      <th>A2</th>\n",
       "      <td>0.0</td>\n",
       "      <td>70.0</td>\n",
       "      <td>60.0</td>\n",
       "      <td>0.0</td>\n",
       "    </tr>\n",
       "    <tr>\n",
       "      <th>A3</th>\n",
       "      <td>0.0</td>\n",
       "      <td>10.0</td>\n",
       "      <td>0.0</td>\n",
       "      <td>80.0</td>\n",
       "    </tr>\n",
       "  </tbody>\n",
       "</table>\n",
       "</div>"
      ],
      "text/plain": [
       "      B1    B2    B3    B4\n",
       "A1  30.0   0.0   0.0  30.0\n",
       "A2   0.0  70.0  60.0   0.0\n",
       "A3   0.0  10.0   0.0  80.0"
      ]
     },
     "execution_count": 17,
     "metadata": {},
     "output_type": "execute_result"
    }
   ],
   "source": [
    "totals = [v.varValue for v in model.variables()]\n",
    "\n",
    "series_obj = pd.Series(totals)\n",
    "  \n",
    "arr = series_obj.values\n",
    "  \n",
    "reshaped_arr = arr.reshape((3, 4))\n",
    "   \n",
    "df = pd.DataFrame(reshaped_arr, index=firms, columns=consumers)\n",
    "\n",
    "df"
   ]
  },
  {
   "cell_type": "markdown",
   "metadata": {},
   "source": [
    "#### Оптимальная стоимость перевозки"
   ]
  },
  {
   "cell_type": "code",
   "execution_count": 18,
   "metadata": {},
   "outputs": [
    {
     "name": "stdout",
     "output_type": "stream",
     "text": [
      "Оптимальная стоимость перевозки = 1670\n"
     ]
    }
   ],
   "source": [
    "print(f\"Оптимальная стоимость перевозки = {int(value(model.objective))}\")"
   ]
  }
 ],
 "metadata": {
  "kernelspec": {
   "display_name": "Python 3",
   "language": "python",
   "name": "python3"
  },
  "language_info": {
   "codemirror_mode": {
    "name": "ipython",
    "version": 3
   },
   "file_extension": ".py",
   "mimetype": "text/x-python",
   "name": "python",
   "nbconvert_exporter": "python",
   "pygments_lexer": "ipython3",
   "version": "3.8.8"
  }
 },
 "nbformat": 4,
 "nbformat_minor": 4
}
